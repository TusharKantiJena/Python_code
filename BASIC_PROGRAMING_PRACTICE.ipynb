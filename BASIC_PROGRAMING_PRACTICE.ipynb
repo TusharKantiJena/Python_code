{
 "cells": [
  {
   "cell_type": "markdown",
   "id": "06bb1431",
   "metadata": {},
   "source": [
    "# BASIC PROGRAMING PRACTICE "
   ]
  },
  {
   "cell_type": "markdown",
   "id": "d23f36b7",
   "metadata": {},
   "source": [
    "# Program 1"
   ]
  },
  {
   "cell_type": "markdown",
   "id": "780e8f4f",
   "metadata": {},
   "source": [
    "# write a python program to print \"hello world\""
   ]
  },
  {
   "cell_type": "code",
   "execution_count": null,
   "id": "99e3c15a",
   "metadata": {},
   "outputs": [],
   "source": [
    "print(\"Hello World\")"
   ]
  },
  {
   "cell_type": "markdown",
   "id": "9adaa55a",
   "metadata": {},
   "source": [
    "# Program 2"
   ]
  },
  {
   "cell_type": "markdown",
   "id": "a47b8e9d",
   "metadata": {},
   "source": [
    "# Write a Python program to do arithmetical operations addition and division."
   ]
  },
  {
   "cell_type": "code",
   "execution_count": 2,
   "id": "a4b5947a",
   "metadata": {},
   "outputs": [
    {
     "name": "stdout",
     "output_type": "stream",
     "text": [
      "50\n",
      "1.5\n"
     ]
    }
   ],
   "source": [
    "def arithmetic(a,b):\n",
    "    print(a+b)\n",
    "    print(a/b)\n",
    "\n",
    "\n",
    "    \n",
    "arithmetic(30,20)"
   ]
  },
  {
   "cell_type": "markdown",
   "id": "30411b94",
   "metadata": {},
   "source": [
    "# or"
   ]
  },
  {
   "cell_type": "code",
   "execution_count": 3,
   "id": "90c6b1b8",
   "metadata": {},
   "outputs": [
    {
     "name": "stdout",
     "output_type": "stream",
     "text": [
      "enter first number:3\n",
      "enter second number:4\n",
      "sum: 3.0+4.0=7.0\n"
     ]
    }
   ],
   "source": [
    "num1=float(input(\"enter first number:\"))\n",
    "num2=float(input(\"enter second number:\"))\n",
    "result=num1+num2\n",
    "print(f\"sum: {num1}+{num2}={result}\")"
   ]
  },
  {
   "cell_type": "code",
   "execution_count": 6,
   "id": "acccfd37",
   "metadata": {},
   "outputs": [
    {
     "name": "stdout",
     "output_type": "stream",
     "text": [
      "enter first number:4\n",
      "enter second number:2\n",
      "devide: 4.0/2.0=2.0\n"
     ]
    }
   ],
   "source": [
    "num1=float(input(\"enter first number:\"))\n",
    "num2=float(input(\"enter second number:\"))\n",
    "result=num1/num2\n",
    "print(f\"devide: {num1}/{num2}={result}\")"
   ]
  },
  {
   "cell_type": "markdown",
   "id": "70ad931b",
   "metadata": {},
   "source": [
    "# Program 3"
   ]
  },
  {
   "cell_type": "markdown",
   "id": "03a2fc75",
   "metadata": {},
   "source": [
    "# Write a Python program to find the area of a triangle."
   ]
  },
  {
   "cell_type": "code",
   "execution_count": 7,
   "id": "9e96c41f",
   "metadata": {},
   "outputs": [
    {
     "name": "stdout",
     "output_type": "stream",
     "text": [
      "enter base10\n",
      "enter hight5\n",
      "area of the tringle: 10.0 and 5.0 is 25.0\n"
     ]
    }
   ],
   "source": [
    "num1=float(input(\"enter base\"))\n",
    "num2=float(input(\"enter hight\"))\n",
    "area=(1/2)*(num1*num2)\n",
    "print(f\"area of the tringle: {num1} and {num2} is {area}\")"
   ]
  },
  {
   "cell_type": "markdown",
   "id": "56f241ef",
   "metadata": {},
   "source": [
    "# Program 4"
   ]
  },
  {
   "cell_type": "markdown",
   "id": "22e25761",
   "metadata": {},
   "source": [
    "# Write a Python program to swap two variables."
   ]
  },
  {
   "cell_type": "code",
   "execution_count": 1,
   "id": "27b30e4b",
   "metadata": {},
   "outputs": [],
   "source": [
    "def swap2var(a,b):\n",
    "    temp=a\n",
    "    a=b\n",
    "    b=temp\n",
    "    return(a,b)\n"
   ]
  },
  {
   "cell_type": "code",
   "execution_count": 5,
   "id": "d6edbdc8",
   "metadata": {},
   "outputs": [
    {
     "name": "stdout",
     "output_type": "stream",
     "text": [
      "enter first number:2\n",
      "enter second number:3\n",
      "before swape: 2,3\n",
      "after swap: (3, 2)\n"
     ]
    }
   ],
   "source": [
    "num1=int(input(\"enter first number:\"))\n",
    "num2=int(input(\"enter second number:\"))\n",
    "print(f\"before swape: {num1},{num2}\")\n",
    "print(\"after swap:\", swap2var(num1,num2))"
   ]
  },
  {
   "cell_type": "markdown",
   "id": "0e9b2e1e",
   "metadata": {},
   "source": [
    "# Progeam 5"
   ]
  },
  {
   "cell_type": "markdown",
   "id": "0a50f5ba",
   "metadata": {},
   "source": [
    "# Write a Python program to generate a random number."
   ]
  },
  {
   "cell_type": "code",
   "execution_count": 28,
   "id": "da04caaf",
   "metadata": {},
   "outputs": [
    {
     "name": "stdout",
     "output_type": "stream",
     "text": [
      "86\n"
     ]
    }
   ],
   "source": [
    "import numpy as np\n",
    "\n",
    "print(np.random.randint(1,100))"
   ]
  },
  {
   "cell_type": "markdown",
   "id": "d098142d",
   "metadata": {},
   "source": [
    "# Program 6"
   ]
  },
  {
   "cell_type": "markdown",
   "id": "c6c50dc8",
   "metadata": {},
   "source": [
    "# Write a Python program to convert kilometers to miles"
   ]
  },
  {
   "cell_type": "code",
   "execution_count": 29,
   "id": "c0c0cd7b",
   "metadata": {},
   "outputs": [
    {
     "name": "stdout",
     "output_type": "stream",
     "text": [
      "enter the km you want to convert to miles:20\n",
      "km to miles : 20.0 to miles 12.42\n"
     ]
    }
   ],
   "source": [
    "num1=float(input(\"enter the km you want to convert to miles:\"))\n",
    "miles= num1*0.621\n",
    "print(f\"km to miles : {num1} to miles {miles}\")"
   ]
  },
  {
   "cell_type": "markdown",
   "id": "278534b0",
   "metadata": {},
   "source": [
    "# Program 7"
   ]
  },
  {
   "cell_type": "markdown",
   "id": "a9ed09dc",
   "metadata": {},
   "source": [
    "# Write a Python program to convert Celsius to Fahrenheit."
   ]
  },
  {
   "cell_type": "code",
   "execution_count": null,
   "id": "7d645db8",
   "metadata": {},
   "outputs": [],
   "source": [
    "celsius=float(input(\"Enter temperature in Celsius: \"))\n",
    "# Conversion formula: Fahrenheit = (Celsius * 9/5) + 32\n",
    "fahrenheit=(celsius*9/5)+32\n"
   ]
  },
  {
   "cell_type": "markdown",
   "id": "52647baa",
   "metadata": {},
   "source": [
    "# Program 8"
   ]
  },
  {
   "cell_type": "markdown",
   "id": "f245de4c",
   "metadata": {},
   "source": [
    "# Write a Python Program to Check if a Number is Positive, Negative or Zero."
   ]
  },
  {
   "cell_type": "code",
   "execution_count": 32,
   "id": "09124f7e",
   "metadata": {},
   "outputs": [
    {
     "data": {
      "text/plain": [
       "'Possitive'"
      ]
     },
     "execution_count": 32,
     "metadata": {},
     "output_type": "execute_result"
    }
   ],
   "source": [
    "def checkTorF(x):\n",
    "    if x==0:\n",
    "        return(\"zero\")\n",
    "    elif x > 0:\n",
    "        return(\"Possitive\")\n",
    "    else:\n",
    "        return(\"Negetive\")\n",
    "    \n",
    "checkTorF(3)   "
   ]
  },
  {
   "cell_type": "markdown",
   "id": "beaad9e9",
   "metadata": {},
   "source": [
    "# Program 13\n"
   ]
  },
  {
   "cell_type": "markdown",
   "id": "d51cedee",
   "metadata": {},
   "source": [
    "# Write a Python Program to Check Leap Year."
   ]
  },
  {
   "cell_type": "code",
   "execution_count": 45,
   "id": "24b72112",
   "metadata": {},
   "outputs": [
    {
     "name": "stdout",
     "output_type": "stream",
     "text": [
      "Enter the year to check if its a leaf year or not: 2021\n",
      "sorry Ront bhai its not a leaf year\n"
     ]
    }
   ],
   "source": [
    "def leafyear(x):\n",
    "    if (x % 400 == 0 or x % 4 == 0) and (x % 100 == 0 or x % 100!=0):\n",
    "        print(\"yes Ront Bhai is a leaf year\")\n",
    "    else:\n",
    "        print(\"sorry Ront bhai its not a leaf year\")\n",
    "    \n",
    "year=int(input(\"Enter the year to check if its a leaf year or not: \"))\n",
    "leafyear(year)"
   ]
  },
  {
   "cell_type": "markdown",
   "id": "40cbe13b",
   "metadata": {},
   "source": [
    "# Program 14"
   ]
  },
  {
   "cell_type": "markdown",
   "id": "0faa28f7",
   "metadata": {},
   "source": [
    "# Write a Python Program to Check Prime Number."
   ]
  },
  {
   "cell_type": "code",
   "execution_count": 73,
   "id": "e70fc655",
   "metadata": {},
   "outputs": [
    {
     "name": "stdout",
     "output_type": "stream",
     "text": [
      "enter a number to check its a prime or not:  10\n",
      "its not a prime\n"
     ]
    }
   ],
   "source": [
    "num1=int(input(\"enter a number to check its a prime or not:  \"))\n",
    "\n",
    "flag=False\n",
    "if num1 == 1:    \n",
    "    print(f\"{num1}, is not a prime number\")    \n",
    "elif num1 > 1 :    \n",
    "    for x in range(2,num1):        \n",
    "        if (num1 % x) == 0:            \n",
    "            flag=True            \n",
    "            break\n",
    "            \n",
    "if flag == True:    \n",
    "    print(\"its not a prime\")    \n",
    "else:    \n",
    "    print(\"its a prime\")"
   ]
  },
  {
   "cell_type": "markdown",
   "id": "1d935d38",
   "metadata": {},
   "source": [
    "# Program 15"
   ]
  },
  {
   "cell_type": "markdown",
   "id": "aa258cba",
   "metadata": {},
   "source": [
    "# Write a Python Program to Print all Prime Numbers in an Interval of 1-10."
   ]
  },
  {
   "cell_type": "code",
   "execution_count": 81,
   "id": "8d2f3316",
   "metadata": {},
   "outputs": [
    {
     "name": "stdout",
     "output_type": "stream",
     "text": [
      "Prime numbers between 1 and 10 are:\n",
      "1\n",
      "2\n",
      "3\n",
      "5\n",
      "7\n"
     ]
    }
   ],
   "source": [
    "lower=1\n",
    "upper=10\n",
    "print(\"Prime numbers between\",lower,\"and\",upper,\"are:\")\n",
    "for num in range(lower,upper+1):\n",
    "    # all prime numbers are greater than 1if num > 1:\n",
    "    for i in range(2,num):\n",
    "        if(num%i)==0:\n",
    "            break\n",
    "    else:\n",
    "        print(num)"
   ]
  },
  {
   "cell_type": "markdown",
   "id": "668c39f9",
   "metadata": {},
   "source": [
    "# Program 16"
   ]
  },
  {
   "cell_type": "markdown",
   "id": "55819e70",
   "metadata": {},
   "source": [
    "# Write a Python Program to Find the Factorial of a Number."
   ]
  },
  {
   "cell_type": "code",
   "execution_count": 86,
   "id": "954b2f03",
   "metadata": {},
   "outputs": [
    {
     "name": "stdout",
     "output_type": "stream",
     "text": [
      "enter the number you want for factorial:   4\n",
      "factorial of 4 is 24\n"
     ]
    }
   ],
   "source": [
    "num=int(input(\"enter the number you want for factorial:   \"))\n",
    "factorial=1\n",
    "if num < 0 :\n",
    "    print(\"there is no factorial less then 0\")\n",
    "elif num == 0:\n",
    "    print(\"the factorial of 0 is 1\")\n",
    "else:\n",
    "    for x in range(1,num+1):\n",
    "        factorial = factorial*x\n",
    "    print(f\"factorial of {num} is {factorial}\")"
   ]
  },
  {
   "cell_type": "markdown",
   "id": "3a5d9df6",
   "metadata": {},
   "source": [
    "# Program 17"
   ]
  },
  {
   "cell_type": "markdown",
   "id": "6ba5380b",
   "metadata": {},
   "source": [
    "# Write a Python Program to Display the multiplication Table."
   ]
  },
  {
   "cell_type": "code",
   "execution_count": 6,
   "id": "621ba590",
   "metadata": {},
   "outputs": [
    {
     "name": "stdout",
     "output_type": "stream",
     "text": [
      "enter the number: 2\n",
      "2 X 1 = 2\n",
      "2 X 2 = 4\n",
      "2 X 3 = 6\n",
      "2 X 4 = 8\n",
      "2 X 5 = 10\n",
      "2 X 6 = 12\n",
      "2 X 7 = 14\n",
      "2 X 8 = 16\n",
      "2 X 9 = 18\n",
      "2 X 10 = 20\n"
     ]
    }
   ],
   "source": [
    "num=int(input(\"enter the number: \"))\n",
    "for i in range(1,11):\n",
    "    print(f\"{num} X {i} = {num*i}\")\n",
    "   "
   ]
  },
  {
   "cell_type": "markdown",
   "id": "b7113819",
   "metadata": {},
   "source": [
    "# Program 18"
   ]
  },
  {
   "cell_type": "markdown",
   "id": "98c093c4",
   "metadata": {},
   "source": [
    "# Write a Python Program to Print the Fibonacci sequence."
   ]
  },
  {
   "cell_type": "code",
   "execution_count": 12,
   "id": "0bb82e2b",
   "metadata": {},
   "outputs": [
    {
     "name": "stdout",
     "output_type": "stream",
     "text": [
      "how many times?: 10\n",
      "series:\n",
      "0\n",
      "1\n",
      "1\n",
      "2\n",
      "3\n",
      "5\n",
      "8\n",
      "13\n",
      "21\n",
      "34\n",
      "series:\n"
     ]
    }
   ],
   "source": [
    "num=int(input(\"how many times?: \"))\n",
    "a=0\n",
    "b=1\n",
    "count=0\n",
    "print(\"series:\")\n",
    "while count<num:\n",
    "    print(a)\n",
    "    c=a+b\n",
    "    a=b\n",
    "    b=c\n",
    "    count+=1\n",
    "print(\"series:\")"
   ]
  },
  {
   "cell_type": "markdown",
   "id": "41b9986e",
   "metadata": {},
   "source": [
    "# Program 19"
   ]
  },
  {
   "cell_type": "markdown",
   "id": "470fdcba",
   "metadata": {},
   "source": [
    "# Write a Python Program to Check Armstrong Number?"
   ]
  },
  {
   "cell_type": "code",
   "execution_count": 14,
   "id": "47f09162",
   "metadata": {},
   "outputs": [
    {
     "name": "stdout",
     "output_type": "stream",
     "text": [
      "print the number : 456\n",
      "456 3\n"
     ]
    }
   ],
   "source": [
    "num=int(input(\"print the number : \"))\n",
    "str_num=str(num)\n",
    "lenght_num=len(str_num)\n",
    "\n",
    "print(str_num,lenght_num)"
   ]
  },
  {
   "cell_type": "markdown",
   "id": "fbb63843",
   "metadata": {},
   "source": [
    "# Program 21"
   ]
  },
  {
   "cell_type": "markdown",
   "id": "185adc92",
   "metadata": {},
   "source": [
    "# Write a Python Program to Find the Sum of Natural Numbers."
   ]
  },
  {
   "cell_type": "code",
   "execution_count": 5,
   "id": "b71d3b35",
   "metadata": {},
   "outputs": [
    {
     "name": "stdout",
     "output_type": "stream",
     "text": [
      "enter the limit:- 10\n",
      "The limit of the number is 10 sum of the numbers is 55\n"
     ]
    }
   ],
   "source": [
    "num1=int(input(\"enter the limit:- \"))\n",
    "total=0\n",
    "for x in range(1,num1+1):\n",
    "    total +=  x\n",
    "    \n",
    "\n",
    "print(f\"The limit of the number is {num1} sum of the numbers is {total}\")"
   ]
  },
  {
   "cell_type": "markdown",
   "id": "db9aacc9",
   "metadata": {},
   "source": [
    "# Program 22"
   ]
  },
  {
   "cell_type": "markdown",
   "id": "cea6883a",
   "metadata": {},
   "source": [
    "# Write a Python Program to Find LCM."
   ]
  },
  {
   "cell_type": "code",
   "execution_count": null,
   "id": "4da15021",
   "metadata": {},
   "outputs": [],
   "source": [
    "def calc_lcm(x,y):\n",
    "    if x > y:\n",
    "        greater = x\n",
    "    else:\n",
    "        greater = y\n",
    "    while(True):\n",
    "        if((greater % x == 0) & (greater % y == 0)):\n",
    "            lcm=greater\n",
    "            break\n",
    "        greater +=1\n",
    "    return lcm\n",
    "\n",
    "num1=int(input(\"enter the first number\"))\n",
    "num2=int(input(\"enter the second number\"))\n",
    "\n",
    "print(\"the lcm is \", calc_lcm(num1,num2))\n",
    "            "
   ]
  },
  {
   "cell_type": "markdown",
   "id": "090c4412",
   "metadata": {},
   "source": [
    "# Program 26"
   ]
  },
  {
   "cell_type": "markdown",
   "id": "6098beda",
   "metadata": {},
   "source": [
    "# Write a Python Program to Make a Simple Calculator with 4 basic mathematicaloperations."
   ]
  },
  {
   "cell_type": "code",
   "execution_count": 1,
   "id": "e206c9fe",
   "metadata": {},
   "outputs": [
    {
     "name": "stdout",
     "output_type": "stream",
     "text": [
      "enter 1 for addition\n",
      "enter 2 for subtraction\n",
      "enter 3 for multiplication\n",
      "enter 4 for division\n",
      "enter the number2\n",
      "enter the first number3\n",
      "enter the seconf number4\n",
      "3 - 4 = -1\n"
     ]
    }
   ],
   "source": [
    "\n",
    "def add(x,y):\n",
    "    return x + y \n",
    "def sub(x,y):\n",
    "    return x - y \n",
    "def mul(x,y):\n",
    "    return x * y \n",
    "def div(x,y):\n",
    "    return x / y \n",
    "\n",
    "print(\"enter 1 for addition\")\n",
    "print(\"enter 2 for subtraction\")\n",
    "print(\"enter 3 for multiplication\")\n",
    "print(\"enter 4 for division\")\n",
    "\n",
    "while True:\n",
    "    choice=input(\"enter the number\")\n",
    "    \n",
    "    if choice in (\"1\",'2','3','4'):\n",
    "        try:\n",
    "            num1=int(input(\"enter the first number\"))\n",
    "            num2=int(input(\"enter the seconf number\"))\n",
    "        except ValueError :\n",
    "            print(\"enter the  valid number\")\n",
    "            continue\n",
    "            \n",
    "        if choice == '1':\n",
    "            print(num1, '+', num2, '=' ,add(num1,num2))\n",
    "            break\n",
    "        if choice == '2':\n",
    "            print(num1, '-', num2, '=' ,sub(num1,num2))\n",
    "            break\n",
    "        if choice == '3':\n",
    "            print(num1, '*', num2, '=' ,mul(num1,num2))\n",
    "            break\n",
    "        if choice == '4':\n",
    "            print(num1, '/', num2, '=' ,div(num1,num2))\n",
    "            break\n",
    "            \n",
    "        option=input(\"if you want to do next calculation type yes or no\")\n",
    "        option = input(\"enter the option\")\n",
    "\n",
    "        if next_calculation == \"no\":\n",
    "            break\n",
    "       \n",
    "    else:\n",
    "        print(\"Invalid Input\")\n",
    "             \n"
   ]
  },
  {
   "cell_type": "code",
   "execution_count": 3,
   "id": "bbc14da0",
   "metadata": {},
   "outputs": [],
   "source": [
    "a= 0\n",
    "for b in range(0,10,2):\n",
    "    a += b + 1"
   ]
  },
  {
   "cell_type": "code",
   "execution_count": 4,
   "id": "99ade8d1",
   "metadata": {},
   "outputs": [],
   "source": [
    "a = 0\n",
    "for b in range(0,10,2):\n",
    "    a += b + 1"
   ]
  },
  {
   "cell_type": "code",
   "execution_count": 6,
   "id": "af1e58a1",
   "metadata": {},
   "outputs": [
    {
     "name": "stdout",
     "output_type": "stream",
     "text": [
      "25\n"
     ]
    }
   ],
   "source": [
    "a = 0\n",
    "for b in range(0,10,2):\n",
    "    a += b + 1\n",
    "print(a)"
   ]
  },
  {
   "cell_type": "code",
   "execution_count": 9,
   "id": "9b4faa45",
   "metadata": {},
   "outputs": [
    {
     "name": "stdout",
     "output_type": "stream",
     "text": [
      "3.11.3\n"
     ]
    }
   ],
   "source": [
    "from platform import python_version\n",
    "print((python_version()))"
   ]
  },
  {
   "cell_type": "markdown",
   "id": "8d73c1ce",
   "metadata": {},
   "source": [
    "# Program 27"
   ]
  },
  {
   "cell_type": "markdown",
   "id": "7378cb67",
   "metadata": {},
   "source": [
    "Write a Python Program for cube sum of first n natural numbers?"
   ]
  },
  {
   "cell_type": "code",
   "execution_count": 5,
   "id": "a51708e9",
   "metadata": {},
   "outputs": [
    {
     "name": "stdout",
     "output_type": "stream",
     "text": [
      "enter the first nth natural number you want to calculate the cube sum: 3\n",
      "the possitive number is 36\n"
     ]
    }
   ],
   "source": [
    "def cub_sum(n):\n",
    "    if n < 0:\n",
    "        return 0\n",
    "    else:\n",
    "        total = sum(i**3 for i in range(1,n+1))\n",
    "        return total\n",
    "    \n",
    "num=int(input(\"enter the first nth natural number you want to calculate the cube sum: \" ))\n",
    "\n",
    "if num < 0:\n",
    "    print(\"enter possitive number\")\n",
    "else:\n",
    "    print(\"the possitive number is\", cub_sum(num))\n",
    "    "
   ]
  },
  {
   "cell_type": "markdown",
   "id": "3b71e660",
   "metadata": {},
   "source": [
    "# program 28"
   ]
  },
  {
   "cell_type": "markdown",
   "id": "bd6917ef",
   "metadata": {},
   "source": [
    "Write a Python Program to find sum of array."
   ]
  },
  {
   "cell_type": "code",
   "execution_count": 27,
   "id": "597a0b99",
   "metadata": {},
   "outputs": [
    {
     "name": "stdout",
     "output_type": "stream",
     "text": [
      "enter the total number you want to put in array:- 2\n",
      "enter the elements:- 3\n",
      "enter the elements:- 6\n",
      "enter the elements:- 8\n",
      "17\n"
     ]
    }
   ],
   "source": [
    "   \n",
    "num = int(input(\"enter the total number you want to put in array:- \"))\n",
    "a=[]\n",
    "for i in range(0,num+1):\n",
    "    num1=int(input(\"enter the elements:- \"))\n",
    "    a.append(num1)\n",
    "print(sum(a))\n",
    "\n",
    "\n",
    "    \n",
    "    "
   ]
  },
  {
   "cell_type": "markdown",
   "id": "fda2aeee",
   "metadata": {},
   "source": [
    "# Program 29"
   ]
  },
  {
   "cell_type": "markdown",
   "id": "abf7fac1",
   "metadata": {},
   "source": [
    "Write a Python Program to find largest element in an array."
   ]
  },
  {
   "cell_type": "code",
   "execution_count": 28,
   "id": "fcd488ae",
   "metadata": {},
   "outputs": [
    {
     "name": "stdout",
     "output_type": "stream",
     "text": [
      "largest element in [1, 4, 9, 4, 6] is 9\n"
     ]
    }
   ],
   "source": [
    "def large_element(n):\n",
    "    if not n:\n",
    "        print(\"empty array\")\n",
    "        \n",
    "    largest_element=n[0]\n",
    "    \n",
    "    for element in n:\n",
    "        if element > largest_element:\n",
    "            largest_element=element\n",
    "    return largest_element\n",
    "\n",
    "arr=[1,4,9,4,6]\n",
    "result=large_element(arr)\n",
    "print(f\"largest element in {arr} is {result}\")"
   ]
  },
  {
   "cell_type": "code",
   "execution_count": 32,
   "id": "7005e964",
   "metadata": {},
   "outputs": [
    {
     "name": "stdout",
     "output_type": "stream",
     "text": [
      "['this', 'some']\n"
     ]
    }
   ],
   "source": [
    "def filter_words_by_frequency(text, k):\n",
    "    word_counts = {}\n",
    "    words = text.split()\n",
    "    result = []\n",
    "    \n",
    "    for word in words:\n",
    "        word = word.lower()  # Convert to lowercase to handle case sensitivity\n",
    "        if word not in word_counts:\n",
    "            word_counts[word] = 1\n",
    "        else:\n",
    "            word_counts[word] += 1\n",
    "    \n",
    "    for word in words:\n",
    "        word = word.lower()\n",
    "        if word_counts[word] >= k and word not in result:\n",
    "            result.append(word)\n",
    "    \n",
    "    return result\n",
    "\n",
    "# Example usage:\n",
    "text = \"This is a sample text. This text contains some words, some of which occur multiple times.\"\n",
    "k = 2\n",
    "print(filter_words_by_frequency(text, k))\n"
   ]
  },
  {
   "cell_type": "code",
   "execution_count": 40,
   "id": "3c914a70",
   "metadata": {},
   "outputs": [
    {
     "name": "stdout",
     "output_type": "stream",
     "text": [
      "['hii', 'my', 'tushar']\n"
     ]
    }
   ],
   "source": [
    "def filter_word(text,k):\n",
    "    word_counts={}\n",
    "    words=text.split()\n",
    "    result=[]\n",
    "    \n",
    "    for word in words:\n",
    "        word = word.lower()\n",
    "        if word not in word_counts:\n",
    "            word_counts[word] = 1\n",
    "        else:\n",
    "            word_counts[word] += 1\n",
    "            \n",
    "    for word in words:\n",
    "        word = word.lower()\n",
    "        if word_counts[word] >= k and word not in result:\n",
    "            result.append(wordi13\n",
    "            \n",
    "    return result\n",
    "            \n",
    "\n",
    "text = \"hii hii my my name is tushar tushar\"\n",
    "k=2\n",
    "\n",
    "print(filter_word(text,k))"
   ]
  },
  {
   "cell_type": "code",
   "execution_count": 43,
   "id": "826f09a5",
   "metadata": {},
   "outputs": [
    {
     "name": "stdout",
     "output_type": "stream",
     "text": [
      "['hii', 'am', 'tushar']\n"
     ]
    }
   ],
   "source": [
    "def friquency_words(text,k):\n",
    "    word_counts={}\n",
    "    words=text.split()\n",
    "    result=[]\n",
    "    \n",
    "    \n",
    "    for word in words:\n",
    "        word=word.lower()\n",
    "        if word not in word_counts:\n",
    "            word_counts[word] = 1\n",
    "        else:\n",
    "            word_counts[word] += 1\n",
    "            \n",
    "    for word in words:\n",
    "        if word_counts[word] >= k and word not in result:\n",
    "            result.append(word)\n",
    "            \n",
    "    return result\n",
    "\n",
    "\n",
    "text = \"hii hii are you there i am am waitting tushar tushar \"\n",
    "k=2\n",
    "\n",
    "print(friquency_words(text,k))"
   ]
  },
  {
   "cell_type": "code",
   "execution_count": 44,
   "id": "f8073e68",
   "metadata": {},
   "outputs": [
    {
     "name": "stdout",
     "output_type": "stream",
     "text": [
      "enter the name of the list:- suresh ramesh vibhuti gulgule raji ram shyam ajay\n",
      "sort values are:\n",
      "Ajay\n",
      "Gulgule\n",
      "Raji\n",
      "Ram\n",
      "Ramesh\n",
      "Shyam\n",
      "Suresh\n",
      "Vibhuti\n"
     ]
    }
   ],
   "source": [
    "my_list= input(\"enter the name of the list:- \")\n",
    "\n",
    "words = [word.capitalize() for word in my_list.split()]\n",
    "\n",
    "words.sort()\n",
    "\n",
    "print(\"sort values are:\")\n",
    "\n",
    "for word in words:\n",
    "    print(word)\n",
    "\n"
   ]
  },
  {
   "cell_type": "markdown",
   "id": "6be72d55",
   "metadata": {},
   "source": [
    "# Write a Python Program to Remove Punctuation From a String."
   ]
  },
  {
   "cell_type": "code",
   "execution_count": 6,
   "id": "25440956",
   "metadata": {},
   "outputs": [
    {
     "name": "stdout",
     "output_type": "stream",
     "text": [
      "enter the string:- gyyuuu mjmg\n",
      "gyyuuumjmg\n"
     ]
    }
   ],
   "source": [
    "punctuation = \" !@#$%^&*()_+=?/<,>.:;|\\ \"\n",
    "\n",
    "my_Str=input(\"enter the string:- \")\n",
    "\n",
    "punct_no = \"\"\n",
    "\n",
    "for char in my_Str:\n",
    "    if char not in punctuation:\n",
    "        punct_no = punct_no + char\n",
    "        \n",
    "print(punct_no)\n",
    "\n",
    "\n"
   ]
  },
  {
   "cell_type": "code",
   "execution_count": null,
   "id": "4e288c35",
   "metadata": {},
   "outputs": [],
   "source": []
  },
  {
   "cell_type": "code",
   "execution_count": null,
   "id": "809eeac8",
   "metadata": {},
   "outputs": [],
   "source": []
  },
  {
   "cell_type": "code",
   "execution_count": null,
   "id": "b11dff1b",
   "metadata": {},
   "outputs": [],
   "source": []
  },
  {
   "cell_type": "code",
   "execution_count": null,
   "id": "e7d93058",
   "metadata": {},
   "outputs": [],
   "source": []
  },
  {
   "cell_type": "code",
   "execution_count": null,
   "id": "f0b0ae24",
   "metadata": {},
   "outputs": [],
   "source": []
  },
  {
   "cell_type": "code",
   "execution_count": null,
   "id": "dba9f2b9",
   "metadata": {},
   "outputs": [],
   "source": []
  },
  {
   "cell_type": "code",
   "execution_count": null,
   "id": "63c83bf0",
   "metadata": {},
   "outputs": [],
   "source": []
  },
  {
   "cell_type": "code",
   "execution_count": null,
   "id": "dfb6bf2b",
   "metadata": {},
   "outputs": [],
   "source": []
  },
  {
   "cell_type": "code",
   "execution_count": null,
   "id": "effd58a4",
   "metadata": {},
   "outputs": [],
   "source": []
  },
  {
   "cell_type": "code",
   "execution_count": null,
   "id": "a21b4451",
   "metadata": {},
   "outputs": [],
   "source": []
  },
  {
   "cell_type": "code",
   "execution_count": null,
   "id": "bb102972",
   "metadata": {},
   "outputs": [],
   "source": []
  },
  {
   "cell_type": "code",
   "execution_count": null,
   "id": "f51bc1d0",
   "metadata": {},
   "outputs": [],
   "source": []
  },
  {
   "cell_type": "code",
   "execution_count": null,
   "id": "4d05e7f3",
   "metadata": {},
   "outputs": [],
   "source": []
  },
  {
   "cell_type": "code",
   "execution_count": null,
   "id": "9555cdc9",
   "metadata": {},
   "outputs": [],
   "source": []
  },
  {
   "cell_type": "code",
   "execution_count": null,
   "id": "f54d74b8",
   "metadata": {},
   "outputs": [],
   "source": []
  },
  {
   "cell_type": "code",
   "execution_count": null,
   "id": "28ec8cc0",
   "metadata": {},
   "outputs": [],
   "source": []
  },
  {
   "cell_type": "code",
   "execution_count": null,
   "id": "fbd2098a",
   "metadata": {},
   "outputs": [],
   "source": []
  },
  {
   "cell_type": "code",
   "execution_count": null,
   "id": "841a4751",
   "metadata": {},
   "outputs": [],
   "source": []
  },
  {
   "cell_type": "code",
   "execution_count": null,
   "id": "5e794df7",
   "metadata": {},
   "outputs": [],
   "source": []
  },
  {
   "cell_type": "code",
   "execution_count": null,
   "id": "45343c33",
   "metadata": {},
   "outputs": [],
   "source": []
  },
  {
   "cell_type": "code",
   "execution_count": null,
   "id": "6d2dc0ec",
   "metadata": {},
   "outputs": [],
   "source": []
  },
  {
   "cell_type": "code",
   "execution_count": null,
   "id": "ab2be444",
   "metadata": {},
   "outputs": [],
   "source": []
  },
  {
   "cell_type": "code",
   "execution_count": null,
   "id": "b151dd5f",
   "metadata": {},
   "outputs": [],
   "source": []
  },
  {
   "cell_type": "code",
   "execution_count": null,
   "id": "76c127fa",
   "metadata": {},
   "outputs": [],
   "source": []
  },
  {
   "cell_type": "code",
   "execution_count": null,
   "id": "33a730b6",
   "metadata": {},
   "outputs": [],
   "source": []
  },
  {
   "cell_type": "code",
   "execution_count": null,
   "id": "1ddc4838",
   "metadata": {},
   "outputs": [],
   "source": []
  },
  {
   "cell_type": "code",
   "execution_count": null,
   "id": "07dc63db",
   "metadata": {},
   "outputs": [],
   "source": []
  },
  {
   "cell_type": "code",
   "execution_count": null,
   "id": "d43af8bc",
   "metadata": {},
   "outputs": [],
   "source": []
  },
  {
   "cell_type": "code",
   "execution_count": null,
   "id": "d5cb44ef",
   "metadata": {},
   "outputs": [],
   "source": []
  },
  {
   "cell_type": "code",
   "execution_count": null,
   "id": "faa477a5",
   "metadata": {},
   "outputs": [],
   "source": []
  },
  {
   "cell_type": "code",
   "execution_count": null,
   "id": "b024dd49",
   "metadata": {},
   "outputs": [],
   "source": []
  },
  {
   "cell_type": "code",
   "execution_count": null,
   "id": "bdd67d51",
   "metadata": {},
   "outputs": [],
   "source": []
  },
  {
   "cell_type": "code",
   "execution_count": null,
   "id": "8cb78fed",
   "metadata": {},
   "outputs": [],
   "source": []
  },
  {
   "cell_type": "code",
   "execution_count": null,
   "id": "dac6eacb",
   "metadata": {},
   "outputs": [],
   "source": []
  },
  {
   "cell_type": "code",
   "execution_count": null,
   "id": "ca92187e",
   "metadata": {},
   "outputs": [],
   "source": []
  },
  {
   "cell_type": "code",
   "execution_count": null,
   "id": "b596bf07",
   "metadata": {},
   "outputs": [],
   "source": []
  },
  {
   "cell_type": "code",
   "execution_count": null,
   "id": "fc8bc46b",
   "metadata": {},
   "outputs": [],
   "source": []
  },
  {
   "cell_type": "code",
   "execution_count": null,
   "id": "1462cfb9",
   "metadata": {},
   "outputs": [],
   "source": []
  },
  {
   "cell_type": "code",
   "execution_count": null,
   "id": "e226d7ec",
   "metadata": {},
   "outputs": [],
   "source": []
  },
  {
   "cell_type": "code",
   "execution_count": null,
   "id": "4af206b0",
   "metadata": {},
   "outputs": [],
   "source": []
  },
  {
   "cell_type": "code",
   "execution_count": null,
   "id": "098d8ec3",
   "metadata": {},
   "outputs": [],
   "source": []
  },
  {
   "cell_type": "code",
   "execution_count": null,
   "id": "7885acab",
   "metadata": {},
   "outputs": [],
   "source": []
  },
  {
   "cell_type": "code",
   "execution_count": null,
   "id": "bdb13281",
   "metadata": {},
   "outputs": [],
   "source": []
  },
  {
   "cell_type": "code",
   "execution_count": null,
   "id": "2dde9326",
   "metadata": {},
   "outputs": [],
   "source": []
  },
  {
   "cell_type": "code",
   "execution_count": null,
   "id": "94df267e",
   "metadata": {},
   "outputs": [],
   "source": []
  },
  {
   "cell_type": "code",
   "execution_count": null,
   "id": "5e363807",
   "metadata": {},
   "outputs": [],
   "source": []
  },
  {
   "cell_type": "code",
   "execution_count": null,
   "id": "3277a7ca",
   "metadata": {},
   "outputs": [],
   "source": []
  },
  {
   "cell_type": "code",
   "execution_count": null,
   "id": "44dc5184",
   "metadata": {},
   "outputs": [],
   "source": []
  },
  {
   "cell_type": "code",
   "execution_count": null,
   "id": "1778bb33",
   "metadata": {},
   "outputs": [],
   "source": []
  },
  {
   "cell_type": "code",
   "execution_count": null,
   "id": "12b13390",
   "metadata": {},
   "outputs": [],
   "source": []
  },
  {
   "cell_type": "code",
   "execution_count": null,
   "id": "2ec1d0c1",
   "metadata": {},
   "outputs": [],
   "source": []
  },
  {
   "cell_type": "code",
   "execution_count": null,
   "id": "5ee797b9",
   "metadata": {},
   "outputs": [],
   "source": []
  },
  {
   "cell_type": "code",
   "execution_count": null,
   "id": "f38da7e5",
   "metadata": {},
   "outputs": [],
   "source": []
  },
  {
   "cell_type": "code",
   "execution_count": null,
   "id": "14f1ed96",
   "metadata": {},
   "outputs": [],
   "source": []
  },
  {
   "cell_type": "code",
   "execution_count": null,
   "id": "350074f5",
   "metadata": {},
   "outputs": [],
   "source": []
  },
  {
   "cell_type": "code",
   "execution_count": null,
   "id": "aec1892a",
   "metadata": {},
   "outputs": [],
   "source": []
  },
  {
   "cell_type": "code",
   "execution_count": null,
   "id": "467b4a3b",
   "metadata": {},
   "outputs": [],
   "source": []
  },
  {
   "cell_type": "code",
   "execution_count": null,
   "id": "a2bc4ef7",
   "metadata": {},
   "outputs": [],
   "source": []
  },
  {
   "cell_type": "code",
   "execution_count": null,
   "id": "23c3a991",
   "metadata": {},
   "outputs": [],
   "source": []
  },
  {
   "cell_type": "code",
   "execution_count": null,
   "id": "a134d91d",
   "metadata": {},
   "outputs": [],
   "source": []
  },
  {
   "cell_type": "code",
   "execution_count": null,
   "id": "316131f1",
   "metadata": {},
   "outputs": [],
   "source": []
  },
  {
   "cell_type": "code",
   "execution_count": null,
   "id": "c602674e",
   "metadata": {},
   "outputs": [],
   "source": []
  },
  {
   "cell_type": "code",
   "execution_count": null,
   "id": "a286e93c",
   "metadata": {},
   "outputs": [],
   "source": []
  },
  {
   "cell_type": "code",
   "execution_count": null,
   "id": "56397a3b",
   "metadata": {},
   "outputs": [],
   "source": []
  },
  {
   "cell_type": "code",
   "execution_count": null,
   "id": "dc22a1ad",
   "metadata": {},
   "outputs": [],
   "source": []
  },
  {
   "cell_type": "code",
   "execution_count": null,
   "id": "ea2dd2de",
   "metadata": {},
   "outputs": [],
   "source": []
  },
  {
   "cell_type": "code",
   "execution_count": null,
   "id": "4d132238",
   "metadata": {},
   "outputs": [],
   "source": []
  },
  {
   "cell_type": "code",
   "execution_count": null,
   "id": "c064ee39",
   "metadata": {},
   "outputs": [],
   "source": []
  },
  {
   "cell_type": "code",
   "execution_count": null,
   "id": "7f0bdd54",
   "metadata": {},
   "outputs": [],
   "source": []
  },
  {
   "cell_type": "code",
   "execution_count": null,
   "id": "956a8147",
   "metadata": {},
   "outputs": [],
   "source": []
  },
  {
   "cell_type": "code",
   "execution_count": null,
   "id": "4805a5d5",
   "metadata": {},
   "outputs": [],
   "source": []
  },
  {
   "cell_type": "code",
   "execution_count": null,
   "id": "67502c06",
   "metadata": {},
   "outputs": [],
   "source": []
  },
  {
   "cell_type": "code",
   "execution_count": null,
   "id": "bfb1690d",
   "metadata": {},
   "outputs": [],
   "source": []
  },
  {
   "cell_type": "code",
   "execution_count": null,
   "id": "c2aec6d9",
   "metadata": {},
   "outputs": [],
   "source": []
  },
  {
   "cell_type": "code",
   "execution_count": null,
   "id": "4114a1d6",
   "metadata": {},
   "outputs": [],
   "source": []
  },
  {
   "cell_type": "code",
   "execution_count": null,
   "id": "a92e9788",
   "metadata": {},
   "outputs": [],
   "source": []
  },
  {
   "cell_type": "code",
   "execution_count": null,
   "id": "6f6b2506",
   "metadata": {},
   "outputs": [],
   "source": []
  },
  {
   "cell_type": "code",
   "execution_count": null,
   "id": "86071a93",
   "metadata": {},
   "outputs": [],
   "source": []
  },
  {
   "cell_type": "code",
   "execution_count": null,
   "id": "86ddae66",
   "metadata": {},
   "outputs": [],
   "source": []
  },
  {
   "cell_type": "code",
   "execution_count": null,
   "id": "79f538e6",
   "metadata": {},
   "outputs": [],
   "source": []
  },
  {
   "cell_type": "code",
   "execution_count": null,
   "id": "6040254f",
   "metadata": {},
   "outputs": [],
   "source": []
  },
  {
   "cell_type": "code",
   "execution_count": null,
   "id": "8493e87e",
   "metadata": {},
   "outputs": [],
   "source": []
  },
  {
   "cell_type": "code",
   "execution_count": null,
   "id": "ebf0088c",
   "metadata": {},
   "outputs": [],
   "source": []
  },
  {
   "cell_type": "code",
   "execution_count": null,
   "id": "d9e0dff8",
   "metadata": {},
   "outputs": [],
   "source": []
  },
  {
   "cell_type": "code",
   "execution_count": null,
   "id": "6d058d1a",
   "metadata": {},
   "outputs": [],
   "source": []
  },
  {
   "cell_type": "code",
   "execution_count": null,
   "id": "56b600e3",
   "metadata": {},
   "outputs": [],
   "source": []
  },
  {
   "cell_type": "code",
   "execution_count": null,
   "id": "244668fd",
   "metadata": {},
   "outputs": [],
   "source": []
  },
  {
   "cell_type": "code",
   "execution_count": null,
   "id": "4f1490bf",
   "metadata": {},
   "outputs": [],
   "source": []
  },
  {
   "cell_type": "code",
   "execution_count": null,
   "id": "90f75fc6",
   "metadata": {},
   "outputs": [],
   "source": []
  },
  {
   "cell_type": "code",
   "execution_count": null,
   "id": "d01c9949",
   "metadata": {},
   "outputs": [],
   "source": []
  },
  {
   "cell_type": "code",
   "execution_count": null,
   "id": "5bebed89",
   "metadata": {},
   "outputs": [],
   "source": []
  },
  {
   "cell_type": "code",
   "execution_count": null,
   "id": "647d964e",
   "metadata": {},
   "outputs": [],
   "source": []
  },
  {
   "cell_type": "code",
   "execution_count": null,
   "id": "42e39d93",
   "metadata": {},
   "outputs": [],
   "source": []
  },
  {
   "cell_type": "code",
   "execution_count": null,
   "id": "205c8999",
   "metadata": {},
   "outputs": [],
   "source": []
  },
  {
   "cell_type": "code",
   "execution_count": null,
   "id": "b6b266cc",
   "metadata": {},
   "outputs": [],
   "source": []
  },
  {
   "cell_type": "code",
   "execution_count": null,
   "id": "2c5071d0",
   "metadata": {},
   "outputs": [],
   "source": []
  },
  {
   "cell_type": "code",
   "execution_count": null,
   "id": "13366140",
   "metadata": {},
   "outputs": [],
   "source": []
  },
  {
   "cell_type": "code",
   "execution_count": null,
   "id": "c6704493",
   "metadata": {},
   "outputs": [],
   "source": []
  },
  {
   "cell_type": "code",
   "execution_count": null,
   "id": "c96ffc2d",
   "metadata": {},
   "outputs": [],
   "source": []
  },
  {
   "cell_type": "code",
   "execution_count": null,
   "id": "036fb693",
   "metadata": {},
   "outputs": [],
   "source": []
  },
  {
   "cell_type": "code",
   "execution_count": null,
   "id": "d2d8ea7e",
   "metadata": {},
   "outputs": [],
   "source": []
  },
  {
   "cell_type": "code",
   "execution_count": null,
   "id": "15adc5bf",
   "metadata": {},
   "outputs": [],
   "source": []
  },
  {
   "cell_type": "code",
   "execution_count": null,
   "id": "ccddfb8f",
   "metadata": {},
   "outputs": [],
   "source": []
  },
  {
   "cell_type": "code",
   "execution_count": null,
   "id": "92381342",
   "metadata": {},
   "outputs": [],
   "source": []
  },
  {
   "cell_type": "code",
   "execution_count": null,
   "id": "d1bc7e93",
   "metadata": {},
   "outputs": [],
   "source": []
  },
  {
   "cell_type": "code",
   "execution_count": null,
   "id": "0dde55d1",
   "metadata": {},
   "outputs": [],
   "source": []
  },
  {
   "cell_type": "code",
   "execution_count": null,
   "id": "ad68a3a7",
   "metadata": {},
   "outputs": [],
   "source": []
  },
  {
   "cell_type": "code",
   "execution_count": null,
   "id": "b1497b34",
   "metadata": {},
   "outputs": [],
   "source": []
  },
  {
   "cell_type": "code",
   "execution_count": null,
   "id": "17e42b15",
   "metadata": {},
   "outputs": [],
   "source": []
  },
  {
   "cell_type": "code",
   "execution_count": null,
   "id": "c10573a0",
   "metadata": {},
   "outputs": [],
   "source": []
  },
  {
   "cell_type": "code",
   "execution_count": null,
   "id": "eef5afc7",
   "metadata": {},
   "outputs": [],
   "source": []
  },
  {
   "cell_type": "code",
   "execution_count": null,
   "id": "355630ae",
   "metadata": {},
   "outputs": [],
   "source": []
  },
  {
   "cell_type": "code",
   "execution_count": null,
   "id": "81a3910a",
   "metadata": {},
   "outputs": [],
   "source": []
  },
  {
   "cell_type": "code",
   "execution_count": null,
   "id": "42b89bdc",
   "metadata": {},
   "outputs": [],
   "source": []
  },
  {
   "cell_type": "code",
   "execution_count": null,
   "id": "912c1f13",
   "metadata": {},
   "outputs": [],
   "source": []
  },
  {
   "cell_type": "code",
   "execution_count": null,
   "id": "80b1f4c8",
   "metadata": {},
   "outputs": [],
   "source": []
  },
  {
   "cell_type": "code",
   "execution_count": null,
   "id": "b84d16e0",
   "metadata": {},
   "outputs": [],
   "source": []
  },
  {
   "cell_type": "code",
   "execution_count": null,
   "id": "7ca9550e",
   "metadata": {},
   "outputs": [],
   "source": []
  },
  {
   "cell_type": "code",
   "execution_count": null,
   "id": "204efdd0",
   "metadata": {},
   "outputs": [],
   "source": []
  },
  {
   "cell_type": "code",
   "execution_count": null,
   "id": "5dabf100",
   "metadata": {},
   "outputs": [],
   "source": []
  },
  {
   "cell_type": "code",
   "execution_count": null,
   "id": "ce98e6c5",
   "metadata": {},
   "outputs": [],
   "source": []
  },
  {
   "cell_type": "code",
   "execution_count": null,
   "id": "7934e6d4",
   "metadata": {},
   "outputs": [],
   "source": []
  },
  {
   "cell_type": "code",
   "execution_count": null,
   "id": "debfca31",
   "metadata": {},
   "outputs": [],
   "source": []
  },
  {
   "cell_type": "code",
   "execution_count": null,
   "id": "540af2ec",
   "metadata": {},
   "outputs": [],
   "source": []
  },
  {
   "cell_type": "code",
   "execution_count": null,
   "id": "bbd7f3a3",
   "metadata": {},
   "outputs": [],
   "source": []
  },
  {
   "cell_type": "code",
   "execution_count": null,
   "id": "899d7aa4",
   "metadata": {},
   "outputs": [],
   "source": []
  }
 ],
 "metadata": {
  "kernelspec": {
   "display_name": "Python 3 (ipykernel)",
   "language": "python",
   "name": "python3"
  },
  "language_info": {
   "codemirror_mode": {
    "name": "ipython",
    "version": 3
   },
   "file_extension": ".py",
   "mimetype": "text/x-python",
   "name": "python",
   "nbconvert_exporter": "python",
   "pygments_lexer": "ipython3",
   "version": "3.11.3"
  }
 },
 "nbformat": 4,
 "nbformat_minor": 5
}
