{
 "cells": [
  {
   "cell_type": "code",
   "execution_count": null,
   "id": "70d3f37f",
   "metadata": {},
   "outputs": [],
   "source": [
    "import pandas as pd\n",
    "file_path=r'C:\\Users\\LENOVO\\OneDrive\\Desktop\\ML\\ML PROJECTS\\UCI_Credit_Card.csv'\n",
    "credit_data=pd.read_csv(file_path, sep=',')\n",
    "credit_data.head(2)"
   ]
  },
  {
   "cell_type": "markdown",
   "id": "e849ebfd",
   "metadata": {},
   "source": [
    "# Dataset Information"
   ]
  },
  {
   "cell_type": "markdown",
   "id": "1115a064",
   "metadata": {},
   "source": [
    "This dataset contains information on default payments, demographic factors, credit data, history of payment, and bill statements\n",
    " of credit card clients in Taiwan from April 2005 to September 2005."
   ]
  },
  {
   "cell_type": "markdown",
   "id": "06943a39",
   "metadata": {},
   "source": [
    "# Data Exploration"
   ]
  },
  {
   "cell_type": "code",
   "execution_count": null,
   "id": "d52f027a",
   "metadata": {},
   "outputs": [],
   "source": [
    "credit_data.shape"
   ]
  },
  {
   "cell_type": "code",
   "execution_count": null,
   "id": "e0c49541",
   "metadata": {},
   "outputs": [],
   "source": [
    "credit_data.columns.values"
   ]
  },
  {
   "cell_type": "code",
   "execution_count": null,
   "id": "1818322a",
   "metadata": {},
   "outputs": [],
   "source": [
    "credit_data.info()"
   ]
  },
  {
   "cell_type": "code",
   "execution_count": null,
   "id": "18fad5a1",
   "metadata": {},
   "outputs": [],
   "source": [
    "credit_data.describe()"
   ]
  },
  {
   "cell_type": "code",
   "execution_count": null,
   "id": "0958ecfd",
   "metadata": {},
   "outputs": [],
   "source": [
    "# How does the probability of default payment vary by categories of different demographic variables?\n",
    "# Which variables are the strongest predictors of default payment?"
   ]
  },
  {
   "cell_type": "markdown",
   "id": "e3dc13e9",
   "metadata": {},
   "source": [
    "# Data Cleaning "
   ]
  },
  {
   "cell_type": "code",
   "execution_count": null,
   "id": "c4360072",
   "metadata": {},
   "outputs": [],
   "source": [
    "#Devide the data into cetagorical and continous"
   ]
  },
  {
   "cell_type": "code",
   "execution_count": null,
   "id": "9aca60c3",
   "metadata": {},
   "outputs": [],
   "source": [
    "credit_data.columns.values"
   ]
  },
  {
   "cell_type": "markdown",
   "id": "39267623",
   "metadata": {},
   "source": [
    "# Chetagorical data "
   ]
  },
  {
   "cell_type": "markdown",
   "id": "5db70379",
   "metadata": {},
   "source": [
    "1 - SEX | \n",
    "2 - EDUCATION |\n",
    "3 - MARRIAGE |\n",
    "4 - AGE |\n",
    "5 - PAY_0 |\n",
    "6 - PAY_2 |\n",
    "7 - PAY_3 |\n",
    "8 - PAY_4 |\n",
    "9 - PAY_5 |\n",
    "10 - PAY_6 "
   ]
  },
  {
   "cell_type": "markdown",
   "id": "7ee04082",
   "metadata": {},
   "source": [
    "# Continous data"
   ]
  },
  {
   "cell_type": "markdown",
   "id": "c857aee4",
   "metadata": {},
   "source": [
    "1 - LIMIT_BAL |\n",
    "2 - BILL_AMT1 |\n",
    "3 - BILL_AMT2 |\n",
    "4 - BILL_AMT3 |\n",
    "5 - BILL_AMT4 |\n",
    "6 - BILL_AMT5 |\n",
    "7 - BILL_AMT6 |\n",
    "8 - PAY_AMT1 |\n",
    "9 - PAY_AMT2 |\n",
    "10 - PAY_AMT3 |\n",
    "11 - PAY_AMT4 |\n",
    "12 - PAY_AMT5 |\n",
    "13 - PAY_AMT6"
   ]
  },
  {
   "cell_type": "markdown",
   "id": "aa976dd4",
   "metadata": {},
   "source": [
    "# Step - 1"
   ]
  },
  {
   "cell_type": "code",
   "execution_count": null,
   "id": "5cfa57e1",
   "metadata": {},
   "outputs": [],
   "source": [
    "credit_data_clean=credit_data.drop(['ID'], axis=1)"
   ]
  },
  {
   "cell_type": "code",
   "execution_count": null,
   "id": "c50e8d70",
   "metadata": {},
   "outputs": [],
   "source": [
    "credit_data_clean.columns.values"
   ]
  },
  {
   "cell_type": "code",
   "execution_count": null,
   "id": "1bb1b70e",
   "metadata": {},
   "outputs": [],
   "source": [
    "credit_data_clean.shape"
   ]
  },
  {
   "cell_type": "markdown",
   "id": "5a96bb7a",
   "metadata": {},
   "source": [
    "# Cleaning Cetagorical data"
   ]
  },
  {
   "cell_type": "code",
   "execution_count": null,
   "id": "f85e90cf",
   "metadata": {},
   "outputs": [],
   "source": [
    "credit_data_clean['default.payment.next.month'].value_counts()"
   ]
  },
  {
   "cell_type": "code",
   "execution_count": null,
   "id": "98bb951d",
   "metadata": {},
   "outputs": [],
   "source": [
    "credit_data_clean['cleandefault.payment.next.month']=credit_data_clean['default.payment.next.month']\n",
    "credit_data_clean['cleandefault.payment.next.month'][credit_data_clean['default.payment.next.month'] > 1] = 0\n",
    "credit_data_clean['cleandefault.payment.next.month'].value_counts()"
   ]
  },
  {
   "cell_type": "code",
   "execution_count": null,
   "id": "898e9bf2",
   "metadata": {},
   "outputs": [],
   "source": [
    "credit_data_clean['SEX'].value_counts()"
   ]
  },
  {
   "cell_type": "code",
   "execution_count": null,
   "id": "6fd6d83c",
   "metadata": {},
   "outputs": [],
   "source": [
    "# pip install matplotlib"
   ]
  },
  {
   "cell_type": "code",
   "execution_count": null,
   "id": "0c5f63c1",
   "metadata": {},
   "outputs": [],
   "source": [
    "credit_data_clean['EDUCATION'].value_counts()\n"
   ]
  },
  {
   "cell_type": "code",
   "execution_count": null,
   "id": "15cadfb9",
   "metadata": {},
   "outputs": [],
   "source": [
    "credit_data_clean['CLEAN_EDUCATION']=credit_data_clean['EDUCATION']\n",
    "credit_data_clean['CLEAN_EDUCATION'][(credit_data_clean['CLEAN_EDUCATION'] >= 5 ) | (credit_data_clean['CLEAN_EDUCATION'] == 0)] = 4\n",
    "credit_data_clean['CLEAN_EDUCATION'].value_counts()"
   ]
  },
  {
   "cell_type": "code",
   "execution_count": null,
   "id": "71b62ac1",
   "metadata": {},
   "outputs": [],
   "source": [
    "credit_data_clean['MARRIAGE'].value_counts()"
   ]
  },
  {
   "cell_type": "code",
   "execution_count": null,
   "id": "607d3948",
   "metadata": {},
   "outputs": [],
   "source": [
    "credit_data_clean['CLEAN_MARRIAGE']=credit_data_clean['MARRIAGE']\n",
    "credit_data_clean['CLEAN_MARRIAGE'][(credit_data_clean['CLEAN_MARRIAGE'] > 3 ) | (credit_data_clean['CLEAN_MARRIAGE'] == 0)] = 3\n",
    "credit_data_clean['CLEAN_MARRIAGE'].value_counts()"
   ]
  },
  {
   "cell_type": "code",
   "execution_count": null,
   "id": "37585216",
   "metadata": {},
   "outputs": [],
   "source": [
    "credit_data_clean['PAY_0'].value_counts()"
   ]
  },
  {
   "cell_type": "code",
   "execution_count": null,
   "id": "52db7be0",
   "metadata": {},
   "outputs": [],
   "source": [
    "cross_tab_value=pd.crosstab(credit_data_clean['PAY_0'],credit_data_clean['default.payment.next.month'])\n",
    "cross_tab_per=cross_tab_value.apply(lambda x : x/x.sum())\n",
    "round(cross_tab_per,2)"
   ]
  },
  {
   "cell_type": "code",
   "execution_count": null,
   "id": "42a83d87",
   "metadata": {},
   "outputs": [],
   "source": [
    "credit_data_clean['clean_PAY_0']=credit_data_clean['PAY_0']\n",
    "credit_data_clean['clean_PAY_0'][credit_data_clean['clean_PAY_0'] < 1] = -1\n",
    "credit_data_clean['clean_PAY_0'].value_counts()"
   ]
  },
  {
   "cell_type": "code",
   "execution_count": null,
   "id": "701b5056",
   "metadata": {},
   "outputs": [],
   "source": [
    "credit_data_clean['clean_PAY_2']=credit_data_clean['PAY_2']\n",
    "credit_data_clean['clean_PAY_2'][credit_data_clean['clean_PAY_2'] < 1] = -1\n",
    "credit_data_clean['clean_PAY_2'].value_counts()"
   ]
  },
  {
   "cell_type": "code",
   "execution_count": null,
   "id": "594a1aa4",
   "metadata": {},
   "outputs": [],
   "source": [
    "credit_data_clean['clean_PAY_3']=credit_data_clean['PAY_3']\n",
    "credit_data_clean['clean_PAY_3'][credit_data_clean['clean_PAY_3'] < 1] = -1\n",
    "credit_data_clean['clean_PAY_3'].value_counts()"
   ]
  },
  {
   "cell_type": "code",
   "execution_count": null,
   "id": "85030fd0",
   "metadata": {},
   "outputs": [],
   "source": [
    "credit_data_clean['clean_PAY_4']=credit_data_clean['PAY_4']\n",
    "credit_data_clean['clean_PAY_4'][credit_data_clean['clean_PAY_4'] < 1] = -1\n",
    "credit_data_clean['clean_PAY_4'].value_counts()"
   ]
  },
  {
   "cell_type": "code",
   "execution_count": null,
   "id": "3ebd3d4d",
   "metadata": {},
   "outputs": [],
   "source": [
    "credit_data_clean['clean_PAY_5']=credit_data_clean['PAY_5']\n",
    "credit_data_clean['clean_PAY_5'][credit_data_clean['clean_PAY_5'] < 1] = -1\n",
    "credit_data_clean['clean_PAY_5'].value_counts()"
   ]
  },
  {
   "cell_type": "code",
   "execution_count": null,
   "id": "aefeb174",
   "metadata": {},
   "outputs": [],
   "source": [
    "credit_data_clean['clean_PAY_6']=credit_data_clean['PAY_6']\n",
    "credit_data_clean['clean_PAY_6'][credit_data_clean['clean_PAY_6'] < 1] = -1\n",
    "credit_data_clean['clean_PAY_6'].value_counts()"
   ]
  },
  {
   "cell_type": "code",
   "execution_count": null,
   "id": "39c57f7d",
   "metadata": {},
   "outputs": [],
   "source": [
    "credit_data_clean.columns.values"
   ]
  },
  {
   "cell_type": "markdown",
   "id": "5efb4ac1",
   "metadata": {},
   "source": [
    "# clean Continous data"
   ]
  },
  {
   "cell_type": "code",
   "execution_count": null,
   "id": "32d307f9",
   "metadata": {},
   "outputs": [],
   "source": [
    "credit_data_clean['BILL_AMT1'].quantile([0.0,0.1,0.2,0.3,0.4,0.5,0.6,0.7,0.8,0.9,1])"
   ]
  },
  {
   "cell_type": "code",
   "execution_count": null,
   "id": "9b74aa17",
   "metadata": {},
   "outputs": [],
   "source": [
    "credit_data_clean['BILL_AMT1'].quantile([0.0,0.91,0.92,0.93,0.94,0.95,0.96,0.97,0.98,0.99,1])"
   ]
  },
  {
   "cell_type": "code",
   "execution_count": null,
   "id": "71d5afb4",
   "metadata": {},
   "outputs": [],
   "source": [
    "credit_data_clean['clean_BILL_AMT1']=credit_data_clean['BILL_AMT1']\n",
    "credit_data_clean['clean_BILL_AMT1'][(credit_data_clean['clean_BILL_AMT1'] < 0) | (credit_data_clean['clean_BILL_AMT1'] > 200000)]=credit_data_clean['clean_BILL_AMT1'].median()\n",
    "credit_data_clean['clean_BILL_AMT1'].quantile([0.0,0.1,0.2,0.3,0.4,0.5,0.6,0.7,0.8,0.9,1])"
   ]
  },
  {
   "cell_type": "code",
   "execution_count": null,
   "id": "c80a22cd",
   "metadata": {},
   "outputs": [],
   "source": [
    "credit_data_clean['clean_BILL_AMT2']=credit_data_clean['BILL_AMT2']\n",
    "credit_data_clean['clean_BILL_AMT2'][(credit_data_clean['clean_BILL_AMT2'] < 0) | (credit_data_clean['clean_BILL_AMT2'] > 200000)]=credit_data_clean['clean_BILL_AMT2'].median()\n",
    "credit_data_clean['clean_BILL_AMT2'].quantile([0.0,0.1,0.2,0.3,0.4,0.5,0.6,0.7,0.8,0.9,1])"
   ]
  },
  {
   "cell_type": "code",
   "execution_count": null,
   "id": "4d8b9d95",
   "metadata": {},
   "outputs": [],
   "source": [
    "credit_data_clean['clean_BILL_AMT3']=credit_data_clean['BILL_AMT3']\n",
    "credit_data_clean['clean_BILL_AMT3'][(credit_data_clean['clean_BILL_AMT3'] < 0) | (credit_data_clean['clean_BILL_AMT3'] > 200000)]=credit_data_clean['clean_BILL_AMT3'].median()\n",
    "credit_data_clean['clean_BILL_AMT3'].quantile([0.0,0.1,0.2,0.3,0.4,0.5,0.6,0.7,0.8,0.9,1])"
   ]
  },
  {
   "cell_type": "code",
   "execution_count": null,
   "id": "c71caf34",
   "metadata": {},
   "outputs": [],
   "source": [
    "credit_data_clean['clean_BILL_AMT4']=credit_data_clean['BILL_AMT4']\n",
    "credit_data_clean['clean_BILL_AMT4'][(credit_data_clean['clean_BILL_AMT4'] < 0) | (credit_data_clean['clean_BILL_AMT4'] > 200000)]=credit_data_clean['clean_BILL_AMT4'].median()\n",
    "credit_data_clean['clean_BILL_AMT4'].quantile([0.0,0.1,0.2,0.3,0.4,0.5,0.6,0.7,0.8,0.9,1])"
   ]
  },
  {
   "cell_type": "code",
   "execution_count": null,
   "id": "0b6e6088",
   "metadata": {},
   "outputs": [],
   "source": [
    "credit_data_clean['clean_BILL_AMT5']=credit_data_clean['BILL_AMT5']\n",
    "credit_data_clean['clean_BILL_AMT5'][(credit_data_clean['clean_BILL_AMT5'] < 0) | (credit_data_clean['clean_BILL_AMT5'] > 200000)]=credit_data_clean['clean_BILL_AMT5'].median()\n",
    "credit_data_clean['clean_BILL_AMT5'].quantile([0.0,0.1,0.2,0.3,0.4,0.5,0.6,0.7,0.8,0.9,1])"
   ]
  },
  {
   "cell_type": "code",
   "execution_count": null,
   "id": "4abbd268",
   "metadata": {},
   "outputs": [],
   "source": [
    "credit_data_clean['clean_BILL_AMT6']=credit_data_clean['BILL_AMT6']\n",
    "credit_data_clean['clean_BILL_AMT6'][(credit_data_clean['clean_BILL_AMT6'] < 0) | (credit_data_clean['clean_BILL_AMT6'] > 200000)]=credit_data_clean['clean_BILL_AMT6'].median()\n",
    "credit_data_clean['clean_BILL_AMT6'].quantile([0.0,0.1,0.2,0.3,0.4,0.5,0.6,0.7,0.8,0.9,1])"
   ]
  },
  {
   "cell_type": "code",
   "execution_count": null,
   "id": "6e977ad4",
   "metadata": {},
   "outputs": [],
   "source": [
    "credit_data_clean['PAY_AMT1'].quantile([0.0,0.1,0.2,0.3,0.4,0.5,0.6,0.7,0.8,0.9,1])\n"
   ]
  },
  {
   "cell_type": "code",
   "execution_count": null,
   "id": "728f9e60",
   "metadata": {},
   "outputs": [],
   "source": [
    "credit_data_clean['PAY_AMT1'].quantile([0.0,0.91,0.92,0.93,0.94,0.95,0.96,0.97,0.98,0.99,1])"
   ]
  },
  {
   "cell_type": "code",
   "execution_count": null,
   "id": "a5a7c9c6",
   "metadata": {},
   "outputs": [],
   "source": [
    "credit_data_clean['clean_PAY_AMT1']=credit_data_clean['PAY_AMT1']\n",
    "credit_data_clean['clean_PAY_AMT1'][credit_data_clean['clean_PAY_AMT1'] > 200000]= credit_data_clean['clean_PAY_AMT1'].median()\n",
    "credit_data_clean['clean_PAY_AMT1'].quantile([0.0,0.1,0.2,0.3,0.4,0.5,0.6,0.7,0.8,0.9,1])"
   ]
  },
  {
   "cell_type": "code",
   "execution_count": null,
   "id": "7dbc7991",
   "metadata": {},
   "outputs": [],
   "source": [
    "credit_data_clean['clean_PAY_AMT2']=credit_data_clean['PAY_AMT2']\n",
    "credit_data_clean['clean_PAY_AMT2'][credit_data_clean['clean_PAY_AMT2'] > 200000]= credit_data_clean['clean_PAY_AMT2'].median()\n",
    "credit_data_clean['clean_PAY_AMT2'].quantile([0.0,0.1,0.2,0.3,0.4,0.5,0.6,0.7,0.8,0.9,1])"
   ]
  },
  {
   "cell_type": "code",
   "execution_count": null,
   "id": "b6806f00",
   "metadata": {},
   "outputs": [],
   "source": [
    "credit_data_clean['clean_PAY_AMT3']=credit_data_clean['PAY_AMT3']\n",
    "credit_data_clean['clean_PAY_AMT3'][credit_data_clean['clean_PAY_AMT3'] > 200000]= credit_data_clean['clean_PAY_AMT3'].median()\n",
    "credit_data_clean['clean_PAY_AMT3'].quantile([0.0,0.1,0.2,0.3,0.4,0.5,0.6,0.7,0.8,0.9,1])"
   ]
  },
  {
   "cell_type": "code",
   "execution_count": null,
   "id": "fa9871f4",
   "metadata": {},
   "outputs": [],
   "source": [
    "credit_data_clean['clean_PAY_AMT4']=credit_data_clean['PAY_AMT4']\n",
    "credit_data_clean['clean_PAY_AMT4'][credit_data_clean['clean_PAY_AMT4'] > 200000]= credit_data_clean['clean_PAY_AMT4'].median()\n",
    "credit_data_clean['clean_PAY_AMT4'].quantile([0.0,0.1,0.2,0.3,0.4,0.5,0.6,0.7,0.8,0.9,1])"
   ]
  },
  {
   "cell_type": "code",
   "execution_count": null,
   "id": "efbb1102",
   "metadata": {},
   "outputs": [],
   "source": [
    "credit_data_clean['clean_PAY_AMT5']=credit_data_clean['PAY_AMT5']\n",
    "credit_data_clean['clean_PAY_AMT5'][credit_data_clean['clean_PAY_AMT5'] > 200000]= credit_data_clean['clean_PAY_AMT5'].median()\n",
    "credit_data_clean['clean_PAY_AMT5'].quantile([0.0,0.1,0.2,0.3,0.4,0.5,0.6,0.7,0.8,0.9,1])"
   ]
  },
  {
   "cell_type": "code",
   "execution_count": null,
   "id": "0bc83e0e",
   "metadata": {},
   "outputs": [],
   "source": [
    "credit_data_clean['clean_PAY_AMT6']=credit_data_clean['PAY_AMT6']\n",
    "credit_data_clean['clean_PAY_AMT6'][credit_data_clean['clean_PAY_AMT6'] > 200000]= credit_data_clean['clean_PAY_AMT6'].median()\n",
    "credit_data_clean['clean_PAY_AMT6'].quantile([0.0,0.1,0.2,0.3,0.4,0.5,0.6,0.7,0.8,0.9,1])"
   ]
  },
  {
   "cell_type": "code",
   "execution_count": null,
   "id": "20618984",
   "metadata": {},
   "outputs": [],
   "source": [
    "credit_data_clean['LIMIT_BAL'].quantile([0.0,0.1,0.2,0.3,0.4,0.5,0.6,0.7,0.8,0.9,1])"
   ]
  },
  {
   "cell_type": "code",
   "execution_count": null,
   "id": "3b08ce13",
   "metadata": {},
   "outputs": [],
   "source": [
    "import matplotlib.pyplot as plt\n",
    "plt.boxplot(credit_data_clean['LIMIT_BAL'])"
   ]
  },
  {
   "cell_type": "code",
   "execution_count": null,
   "id": "fadf93db",
   "metadata": {},
   "outputs": [],
   "source": [
    "credit_data_clean['clean_LIMIT_BAL']=credit_data_clean['LIMIT_BAL']\n",
    "credit_data_clean['clean_LIMIT_BAL'][credit_data_clean['clean_LIMIT_BAL'] > 200000]= credit_data_clean['clean_LIMIT_BAL'].median()\n",
    "credit_data_clean['clean_LIMIT_BAL'].quantile([0.0,0.1,0.2,0.3,0.4,0.5,0.6,0.7,0.8,0.9,1])"
   ]
  },
  {
   "cell_type": "code",
   "execution_count": null,
   "id": "0799a6fa",
   "metadata": {},
   "outputs": [],
   "source": [
    "import matplotlib.pyplot as plt\n",
    "plt.boxplot(credit_data_clean['clean_LIMIT_BAL'])"
   ]
  },
  {
   "cell_type": "code",
   "execution_count": null,
   "id": "7cd9ab22",
   "metadata": {},
   "outputs": [],
   "source": [
    "credit_data_clean.columns.values"
   ]
  },
  {
   "cell_type": "code",
   "execution_count": null,
   "id": "bcaf49a4",
   "metadata": {},
   "outputs": [],
   "source": [
    "keep=['SEX','AGE','CLEAN_EDUCATION','cleandefault.payment.next.month', 'CLEAN_MARRIAGE', 'clean_PAY_0','clean_PAY_2', 'clean_PAY_3', 'clean_PAY_4', 'clean_PAY_5','clean_PAY_6', 'clean_BILL_AMT1', 'clean_BILL_AMT2','clean_BILL_AMT3', 'clean_BILL_AMT4', 'clean_BILL_AMT5','clean_BILL_AMT6', 'clean_PAY_AMT1', 'clean_PAY_AMT2','clean_PAY_AMT3', 'clean_PAY_AMT4', 'clean_PAY_AMT5','clean_PAY_AMT6', 'clean_LIMIT_BAL']\n",
    "credit_data_Final_clean=credit_data_clean[keep]\n",
    "credit_data_Final_clean.info()"
   ]
  },
  {
   "cell_type": "markdown",
   "id": "ec5b737d",
   "metadata": {},
   "source": [
    "# Model Building"
   ]
  },
  {
   "cell_type": "code",
   "execution_count": null,
   "id": "f5831aa3",
   "metadata": {},
   "outputs": [],
   "source": [
    "x_data = credit_data_Final_clean.drop(['cleandefault.payment.next.month'],axis=1)\n",
    "print(x_data.shape)\n",
    "\n",
    "y_data = credit_data_Final_clean['cleandefault.payment.next.month']\n",
    "print(y_data.shape)"
   ]
  },
  {
   "cell_type": "code",
   "execution_count": null,
   "id": "bb5b8d69",
   "metadata": {},
   "outputs": [],
   "source": [
    "# now we will split the data to test and train "
   ]
  },
  {
   "cell_type": "code",
   "execution_count": null,
   "id": "aab0e84a",
   "metadata": {},
   "outputs": [],
   "source": [
    "from sklearn.model_selection import train_test_split\n",
    "x_train,x_test,y_train,y_test=train_test_split(x_data,y_data, test_size=0.2 , random_state=43)\n",
    "print('x_train-',x_data.shape)\n",
    "print('y_train-',y_data.shape)\n",
    "print('x_test-',x_test.shape)\n",
    "print('y_test-',y_test.shape)"
   ]
  },
  {
   "cell_type": "code",
   "execution_count": null,
   "id": "85a7adf2",
   "metadata": {},
   "outputs": [],
   "source": [
    "#Now we will put logistic regression model "
   ]
  },
  {
   "cell_type": "code",
   "execution_count": null,
   "id": "b4ad5116",
   "metadata": {},
   "outputs": [],
   "source": [
    "from sklearn.linear_model import LogisticRegression\n",
    "lr=LogisticRegression()\n",
    "lr.fit(x_train,y_train)\n",
    "\n",
    "print(lr.coef_)\n",
    "print(lr.intercept_)"
   ]
  },
  {
   "cell_type": "code",
   "execution_count": null,
   "id": "133d730b",
   "metadata": {},
   "outputs": [],
   "source": [
    "from sklearn.metrics import confusion_matrix\n",
    "y_train_predict = lr.predict(x_train)\n",
    "cm=confusion_matrix(y_train,y_train_predict)\n",
    "print(cm)\n",
    "\n",
    "accuracy = (cm[0,0]+cm[1,1])/(cm[0,0]+cm[1,1]+cm[0,1]+cm[1,0])\n",
    "accuracy"
   ]
  },
  {
   "cell_type": "code",
   "execution_count": null,
   "id": "71fac9e7",
   "metadata": {},
   "outputs": [],
   "source": [
    "print(y_test.value_counts())\n",
    "y_test_predict = lr.predict(x_test)\n",
    "cm=confusion_matrix(y_test,y_test_predict)\n",
    "print(cm)\n",
    "\n",
    "accuracy = (cm[0,0]+cm[1,1])/(cm[0,0]+cm[1,1]+cm[0,1]+cm[1,0])\n",
    "accuracy"
   ]
  },
  {
   "cell_type": "markdown",
   "id": "d7fd30bd",
   "metadata": {},
   "source": [
    "# Multicolinearity"
   ]
  },
  {
   "cell_type": "code",
   "execution_count": null,
   "id": "e88ab7aa",
   "metadata": {},
   "outputs": [],
   "source": [
    "import statsmodels.formula.api as sm\n",
    "def vif_function(input_data):\n",
    "    x_vers=input_data\n",
    "    featers_name=x_vers.columns\n",
    "    for i in range(0,len(featers_name)):\n",
    "        y=x_vers[featers_name[i]]\n",
    "        x=x_vers[featers_name.drop(featers_name[i])]\n",
    "        rsquare=sm.ols(\"y~x\",data=x_vers).fit().rsquared\n",
    "        vif=round(1/(1-rsquare),2)\n",
    "        print(featers_name[i],\"vif is:- \", vif)"
   ]
  },
  {
   "cell_type": "code",
   "execution_count": null,
   "id": "0e3f3c3f",
   "metadata": {},
   "outputs": [],
   "source": [
    "vif_function(x_train)"
   ]
  },
  {
   "cell_type": "code",
   "execution_count": null,
   "id": "3ecaf56e",
   "metadata": {},
   "outputs": [],
   "source": [
    "vif_function(x_train.drop('clean_BILL_AMT5',axis=1))"
   ]
  },
  {
   "cell_type": "code",
   "execution_count": null,
   "id": "3cc1e684",
   "metadata": {},
   "outputs": [],
   "source": [
    "vif_function(x_train.drop(['clean_BILL_AMT5','clean_BILL_AMT2'],axis=1))"
   ]
  },
  {
   "cell_type": "code",
   "execution_count": null,
   "id": "7e835b02",
   "metadata": {},
   "outputs": [],
   "source": [
    "vif_function(x_train.drop(['clean_BILL_AMT5','clean_BILL_AMT2','clean_BILL_AMT4'],axis=1))"
   ]
  },
  {
   "cell_type": "code",
   "execution_count": null,
   "id": "1153bc14",
   "metadata": {},
   "outputs": [],
   "source": [
    "x_train_after_vif = x_train.drop(['clean_BILL_AMT5','clean_BILL_AMT2','clean_BILL_AMT4'],axis=1)"
   ]
  },
  {
   "cell_type": "code",
   "execution_count": null,
   "id": "ec1d8162",
   "metadata": {},
   "outputs": [],
   "source": [
    "import statsmodels.discrete.discrete_model as sm\n",
    "model=sm.Logit(y_train,x_train_after_vif).fit()\n",
    "print(model.summary())"
   ]
  },
  {
   "cell_type": "code",
   "execution_count": null,
   "id": "53aeba97",
   "metadata": {},
   "outputs": [],
   "source": [
    "non_impect=['CLEAN_EDUCATION','clean_PAY_2','clean_BILL_AMT3','clean_BILL_AMT6','clean_PAY_AMT3','clean_PAY_AMT6','AGE','clean_BILL_AMT1']\n",
    "dependent=['clean_BILL_AMT5','clean_BILL_AMT2','clean_BILL_AMT4']\n",
    "\n",
    "x_train_final_data=x_train.drop(non_impect+dependent, axis=1)\n",
    "x_train_final_data.info()"
   ]
  },
  {
   "cell_type": "code",
   "execution_count": null,
   "id": "fd7ece2a",
   "metadata": {},
   "outputs": [],
   "source": [
    "import statsmodels.discrete.discrete_model as sm\n",
    "model_2=sm.Logit(y_train,x_train_final_data).fit()\n",
    "print(model_2.summary())"
   ]
  },
  {
   "cell_type": "markdown",
   "id": "f493cc88",
   "metadata": {},
   "source": [
    "# Final model Final accuracy "
   ]
  },
  {
   "cell_type": "code",
   "execution_count": null,
   "id": "98fc8d51",
   "metadata": {},
   "outputs": [],
   "source": [
    "from sklearn.linear_model import LogisticRegression\n",
    "lr=LogisticRegression()\n",
    "lr.fit(x_train_final_data,y_train)\n",
    "\n",
    "y_train_predict_f = lr.predict(x_train_final_data)\n",
    "cm=confusion_matrix(y_train,y_train_predict_f)\n",
    "print(cm)\n",
    "\n",
    "accuracy = (cm[0,0]+cm[1,1])/(cm[0,0]+cm[1,1]+cm[0,1]+cm[1,0])\n",
    "print(round(accuracy,2))"
   ]
  },
  {
   "cell_type": "code",
   "execution_count": null,
   "id": "1fe7e630",
   "metadata": {},
   "outputs": [],
   "source": [
    "x_train_final_data.shape\n",
    "y_train.value_counts()"
   ]
  },
  {
   "cell_type": "markdown",
   "id": "9796e136",
   "metadata": {},
   "source": [
    "when there is class imbalance then overall accuracy is not a good measure \n",
    "so we need to balance the data by useing few techniques "
   ]
  },
  {
   "cell_type": "markdown",
   "id": "485c977c",
   "metadata": {},
   "source": [
    "# Threshold changing "
   ]
  },
  {
   "cell_type": "code",
   "execution_count": null,
   "id": "eeb00179",
   "metadata": {
    "scrolled": false
   },
   "outputs": [],
   "source": [
    "y_train_predicted_proba = lr.predict_proba(x_train_final_data)\n",
    "y_train_predicted_prooba_class1=y_train_predicted_proba[:,1]\n",
    "y_train_predicted_proba\n",
    "y_train_predicted_30pct_threshold= [0 if x< 0.3 else 1 for x in y_train_predicted_prooba_class1]\n",
    "print(y_train_predict_f,y_train_predicted_30pct_threshold)"
   ]
  },
  {
   "cell_type": "code",
   "execution_count": null,
   "id": "971c9c53",
   "metadata": {},
   "outputs": [],
   "source": [
    "cm=confusion_matrix(y_train,y_train_predicted_30pct_threshold)\n",
    "print(cm)\n",
    "\n",
    "accuracy = (cm[0,0]+cm[1,1])/(cm[0,0]+cm[1,1]+cm[0,1]+cm[1,0])\n",
    "print(round(accuracy,2))"
   ]
  },
  {
   "cell_type": "code",
   "execution_count": null,
   "id": "e72da80f",
   "metadata": {},
   "outputs": [],
   "source": [
    "from sklearn.metrics import classification_report\n",
    "print(\"50-threshold- \\n\", classification_report(y_train,y_train_predict_f))\n",
    "print(\"30-threshold- \\n\", classification_report(y_train,y_train_predicted_30pct_threshold))"
   ]
  },
  {
   "cell_type": "markdown",
   "id": "9d2a6e6b",
   "metadata": {},
   "source": [
    "# SMOTE TECHNIQUE"
   ]
  },
  {
   "cell_type": "code",
   "execution_count": null,
   "id": "fed12758",
   "metadata": {},
   "outputs": [],
   "source": [
    "from imblearn.over_sampling import SMOTE\n",
    "smote = SMOTE(sampling_strategy=0.8, random_state=42)\n",
    "x_train_final_data_smote, y_train_smote = smote.fit_resample(x_train_final_data, y_train)\n",
    "\n",
    "print(\"x_train_final_data_smote:- \", x_train_final_data_smote.shape)\n",
    "print(\"y_train_smote:- \", y_train_smote.value_counts())\n",
    "\n",
    "lr.fit(x_train_final_data_smote,y_train_smote)\n",
    "\n",
    "y_train_pred=lr.predict(x_train_final_data_smote)\n",
    "cm2= confusion_matrix(y_train_smote,y_train_pred)\n",
    "print(cm2)\n",
    "\n",
    "train_accuracy2 = (cm2[0,0]+cm2[1,1])/(cm2[0,0]+cm2[1,1]+cm2[0,1]+cm2[1,0])\n",
    "print(round(accuracy,2))\n",
    "\n",
    "Specificity=round(cm2[1,1]/(cm2[1,0]+cm2[1,1]),2)\n",
    "print(\"class1 accuraacy:- \",Specificity)\n"
   ]
  },
  {
   "cell_type": "markdown",
   "id": "53a61264",
   "metadata": {},
   "source": [
    "# SMOTE TECHNIQUE WITH THRESHOLD"
   ]
  },
  {
   "cell_type": "code",
   "execution_count": null,
   "id": "93a8fcfb",
   "metadata": {},
   "outputs": [],
   "source": [
    "y_train_predicted_proba = lr.predict_proba(x_train_final_data_smote)\n",
    "y_train_predicted_prooba_class1=y_train_predicted_proba[:,1]\n",
    "y_train_predicted_proba\n",
    "y_train_predicted_30pct_threshold= [0 if x< 0.4 else 1 for x in y_train_predicted_prooba_class1]\n",
    "# print(y_train_smote,y_train_predicted_30pct_threshold)\n",
    "\n",
    "\n",
    "cm=confusion_matrix(y_train_smote,y_train_predicted_30pct_threshold)\n",
    "print(cm)\n",
    "\n",
    "accuracy = (cm[0,0]+cm[1,1])/(cm[0,0]+cm[1,1]+cm[0,1]+cm[1,0])\n",
    "print(round(accuracy,2))\n",
    "\n",
    "Specificity=round(cm[1,1]/(cm[1,0]+cm[1,1]),2)\n",
    "print(\"class1 accuraacy:- \",Specificity)"
   ]
  },
  {
   "cell_type": "code",
   "execution_count": null,
   "id": "0e0121ad",
   "metadata": {},
   "outputs": [],
   "source": [
    "# Previously the accuracy was 26% after using validation techiniques we reach to 82% accuracy "
   ]
  },
  {
   "cell_type": "code",
   "execution_count": null,
   "id": "3061ac87",
   "metadata": {},
   "outputs": [],
   "source": []
  }
 ],
 "metadata": {
  "kernelspec": {
   "display_name": "Python 3 (ipykernel)",
   "language": "python",
   "name": "python3"
  },
  "language_info": {
   "codemirror_mode": {
    "name": "ipython",
    "version": 3
   },
   "file_extension": ".py",
   "mimetype": "text/x-python",
   "name": "python",
   "nbconvert_exporter": "python",
   "pygments_lexer": "ipython3",
   "version": "3.11.3"
  }
 },
 "nbformat": 4,
 "nbformat_minor": 5
}
